{
 "cells": [
  {
   "cell_type": "code",
   "execution_count": 0,
   "metadata": {
    "application/vnd.databricks.v1+cell": {
     "cellMetadata": {
      "byteLimit": 2048000,
      "rowLimit": 10000
     },
     "inputWidgets": {},
     "nuid": "3891d4d6-7d3e-405b-b5ff-293b781b7025",
     "showTitle": false,
     "tableResultSettingsMap": {},
     "title": ""
    }
   },
   "outputs": [],
   "source": [
    "from pyspark.sql import SparkSession\n",
    "from pyspark.sql.window import Window\n",
    "from pyspark.sql.functions import sum, avg, count, min, max, row_number, lead, lag, first, last\n",
    "\n",
    "\n",
    "spark = SparkSession.builder.appName(\"Zadanie3\").getOrCreate()"
   ]
  },
  {
   "cell_type": "code",
   "execution_count": 0,
   "metadata": {
    "application/vnd.databricks.v1+cell": {
     "cellMetadata": {
      "byteLimit": 2048000,
      "rowLimit": 10000
     },
     "inputWidgets": {},
     "nuid": "4ae707b6-d00d-4ce4-861c-eeaac42d6b06",
     "showTitle": false,
     "tableResultSettingsMap": {},
     "title": ""
    }
   },
   "outputs": [
    {
     "output_type": "display_data",
     "data": {
      "text/html": [
       "<style scoped>\n",
       "  .table-result-container {\n",
       "    max-height: 300px;\n",
       "    overflow: auto;\n",
       "  }\n",
       "  table, th, td {\n",
       "    border: 1px solid black;\n",
       "    border-collapse: collapse;\n",
       "  }\n",
       "  th, td {\n",
       "    padding: 5px;\n",
       "  }\n",
       "  th {\n",
       "    text-align: left;\n",
       "  }\n",
       "</style><div class='table-result-container'><table class='table-result'><thead style='background-color: white'><tr><th>AccountId</th><th>TranDate</th><th>TranAmt</th></tr></thead><tbody><tr><td>1</td><td>2011-01-01</td><td>500</td></tr><tr><td>1</td><td>2011-01-15</td><td>50</td></tr><tr><td>1</td><td>2011-01-22</td><td>250</td></tr><tr><td>1</td><td>2011-01-24</td><td>75</td></tr><tr><td>1</td><td>2011-01-26</td><td>125</td></tr><tr><td>1</td><td>2011-01-28</td><td>175</td></tr><tr><td>2</td><td>2011-01-01</td><td>500</td></tr><tr><td>2</td><td>2011-01-15</td><td>50</td></tr><tr><td>2</td><td>2011-01-22</td><td>25</td></tr><tr><td>2</td><td>2011-01-23</td><td>125</td></tr><tr><td>2</td><td>2011-01-26</td><td>200</td></tr><tr><td>2</td><td>2011-01-29</td><td>250</td></tr><tr><td>3</td><td>2011-01-01</td><td>500</td></tr><tr><td>3</td><td>2011-01-15</td><td>50</td></tr><tr><td>3</td><td>2011-01-22</td><td>5000</td></tr><tr><td>3</td><td>2011-01-25</td><td>550</td></tr><tr><td>3</td><td>2011-01-27</td><td>95</td></tr><tr><td>3</td><td>2011-01-30</td><td>2500</td></tr></tbody></table></div>"
      ]
     },
     "metadata": {
      "application/vnd.databricks.v1+output": {
       "addedWidgets": {},
       "aggData": [],
       "aggError": "",
       "aggOverflow": false,
       "aggSchema": [],
       "aggSeriesLimitReached": false,
       "aggType": "",
       "arguments": {},
       "columnCustomDisplayInfos": {},
       "data": [
        [
         1,
         "2011-01-01",
         500
        ],
        [
         1,
         "2011-01-15",
         50
        ],
        [
         1,
         "2011-01-22",
         250
        ],
        [
         1,
         "2011-01-24",
         75
        ],
        [
         1,
         "2011-01-26",
         125
        ],
        [
         1,
         "2011-01-28",
         175
        ],
        [
         2,
         "2011-01-01",
         500
        ],
        [
         2,
         "2011-01-15",
         50
        ],
        [
         2,
         "2011-01-22",
         25
        ],
        [
         2,
         "2011-01-23",
         125
        ],
        [
         2,
         "2011-01-26",
         200
        ],
        [
         2,
         "2011-01-29",
         250
        ],
        [
         3,
         "2011-01-01",
         500
        ],
        [
         3,
         "2011-01-15",
         50
        ],
        [
         3,
         "2011-01-22",
         5000
        ],
        [
         3,
         "2011-01-25",
         550
        ],
        [
         3,
         "2011-01-27",
         95
        ],
        [
         3,
         "2011-01-30",
         2500
        ]
       ],
       "datasetInfos": [],
       "dbfsResultPath": null,
       "isJsonSchema": true,
       "metadata": {},
       "overflow": false,
       "plotOptions": {
        "customPlotOptions": {},
        "displayType": "table",
        "pivotAggregation": null,
        "pivotColumns": null,
        "xColumns": null,
        "yColumns": null
       },
       "removedWidgets": [],
       "schema": [
        {
         "metadata": "{}",
         "name": "AccountId",
         "type": "\"long\""
        },
        {
         "metadata": "{}",
         "name": "TranDate",
         "type": "\"string\""
        },
        {
         "metadata": "{}",
         "name": "TranAmt",
         "type": "\"long\""
        }
       ],
       "type": "table"
      }
     },
     "output_type": "display_data"
    }
   ],
   "source": [
    "transactions_data = [\n",
    "    (1, '2011-01-01', 500), (1, '2011-01-15', 50), (1, '2011-01-22', 250),\n",
    "    (1, '2011-01-24', 75), (1, '2011-01-26', 125), (1, '2011-01-28', 175),\n",
    "    (2, '2011-01-01', 500), (2, '2011-01-15', 50), (2, '2011-01-22', 25),\n",
    "    (2, '2011-01-23', 125), (2, '2011-01-26', 200), (2, '2011-01-29', 250),\n",
    "    (3, '2011-01-01', 500), (3, '2011-01-15', 50), (3, '2011-01-22', 5000),\n",
    "    (3, '2011-01-25', 550), (3, '2011-01-27', 95), (3, '2011-01-30', 2500)\n",
    "]\n",
    "\n",
    "transactions_df = spark.createDataFrame(transactions_data, [\"AccountId\", \"TranDate\", \"TranAmt\"])\n",
    "\n",
    "\n",
    "window = Window.partitionBy(\"AccountId\").orderBy(\"TranDate\")\n",
    "window_r = window.rowsBetween(-2, 0)\n",
    "display(transactions_df)"
   ]
  },
  {
   "cell_type": "code",
   "execution_count": 0,
   "metadata": {
    "application/vnd.databricks.v1+cell": {
     "cellMetadata": {
      "byteLimit": 2048000,
      "rowLimit": 10000
     },
     "inputWidgets": {},
     "nuid": "49c8f523-c62c-48aa-b1a3-f098ef5a7fa4",
     "showTitle": false,
     "tableResultSettingsMap": {},
     "title": ""
    }
   },
   "outputs": [
    {
     "output_type": "display_data",
     "data": {
      "text/html": [
       "<style scoped>\n",
       "  .table-result-container {\n",
       "    max-height: 300px;\n",
       "    overflow: auto;\n",
       "  }\n",
       "  table, th, td {\n",
       "    border: 1px solid black;\n",
       "    border-collapse: collapse;\n",
       "  }\n",
       "  th, td {\n",
       "    padding: 5px;\n",
       "  }\n",
       "  th {\n",
       "    text-align: left;\n",
       "  }\n",
       "</style><div class='table-result-container'><table class='table-result'><thead style='background-color: white'><tr><th>AccountId</th><th>TranDate</th><th>TranAmt</th><th>RunTotalAmt</th><th>RunAvg</th><th>RunTranQty</th><th>RunSmallAmt</th><th>RunLargeAmt</th><th>SlideAvg</th><th>SlideQty</th><th>SlideMin</th><th>SlideMax</th><th>SlideTotal</th><th>LeadValue</th><th>LagValue</th><th>FirstValue</th><th>LastValue</th><th>RowNumber</th></tr></thead><tbody><tr><td>1</td><td>2011-01-01</td><td>500</td><td>500</td><td>500.0</td><td>1</td><td>500</td><td>500</td><td>500.0</td><td>1</td><td>500</td><td>500</td><td>500</td><td>50</td><td>null</td><td>500</td><td>500</td><td>1</td></tr><tr><td>1</td><td>2011-01-15</td><td>50</td><td>550</td><td>275.0</td><td>2</td><td>50</td><td>500</td><td>275.0</td><td>2</td><td>50</td><td>500</td><td>550</td><td>250</td><td>500</td><td>500</td><td>50</td><td>2</td></tr><tr><td>1</td><td>2011-01-22</td><td>250</td><td>800</td><td>266.6666666666667</td><td>3</td><td>50</td><td>500</td><td>266.6666666666667</td><td>3</td><td>50</td><td>500</td><td>800</td><td>75</td><td>50</td><td>500</td><td>250</td><td>3</td></tr><tr><td>1</td><td>2011-01-24</td><td>75</td><td>375</td><td>125.0</td><td>3</td><td>50</td><td>250</td><td>125.0</td><td>3</td><td>50</td><td>250</td><td>375</td><td>125</td><td>250</td><td>500</td><td>75</td><td>4</td></tr><tr><td>1</td><td>2011-01-26</td><td>125</td><td>450</td><td>150.0</td><td>3</td><td>75</td><td>250</td><td>150.0</td><td>3</td><td>75</td><td>250</td><td>450</td><td>175</td><td>75</td><td>500</td><td>125</td><td>5</td></tr><tr><td>1</td><td>2011-01-28</td><td>175</td><td>375</td><td>125.0</td><td>3</td><td>75</td><td>175</td><td>125.0</td><td>3</td><td>75</td><td>175</td><td>375</td><td>null</td><td>125</td><td>500</td><td>175</td><td>6</td></tr><tr><td>2</td><td>2011-01-01</td><td>500</td><td>500</td><td>500.0</td><td>1</td><td>500</td><td>500</td><td>500.0</td><td>1</td><td>500</td><td>500</td><td>500</td><td>50</td><td>null</td><td>500</td><td>500</td><td>1</td></tr><tr><td>2</td><td>2011-01-15</td><td>50</td><td>550</td><td>275.0</td><td>2</td><td>50</td><td>500</td><td>275.0</td><td>2</td><td>50</td><td>500</td><td>550</td><td>25</td><td>500</td><td>500</td><td>50</td><td>2</td></tr><tr><td>2</td><td>2011-01-22</td><td>25</td><td>575</td><td>191.66666666666666</td><td>3</td><td>25</td><td>500</td><td>191.66666666666666</td><td>3</td><td>25</td><td>500</td><td>575</td><td>125</td><td>50</td><td>500</td><td>25</td><td>3</td></tr><tr><td>2</td><td>2011-01-23</td><td>125</td><td>200</td><td>66.66666666666667</td><td>3</td><td>25</td><td>125</td><td>66.66666666666667</td><td>3</td><td>25</td><td>125</td><td>200</td><td>200</td><td>25</td><td>500</td><td>125</td><td>4</td></tr><tr><td>2</td><td>2011-01-26</td><td>200</td><td>350</td><td>116.66666666666667</td><td>3</td><td>25</td><td>200</td><td>116.66666666666667</td><td>3</td><td>25</td><td>200</td><td>350</td><td>250</td><td>125</td><td>500</td><td>200</td><td>5</td></tr><tr><td>2</td><td>2011-01-29</td><td>250</td><td>575</td><td>191.66666666666666</td><td>3</td><td>125</td><td>250</td><td>191.66666666666666</td><td>3</td><td>125</td><td>250</td><td>575</td><td>null</td><td>200</td><td>500</td><td>250</td><td>6</td></tr><tr><td>3</td><td>2011-01-01</td><td>500</td><td>500</td><td>500.0</td><td>1</td><td>500</td><td>500</td><td>500.0</td><td>1</td><td>500</td><td>500</td><td>500</td><td>50</td><td>null</td><td>500</td><td>500</td><td>1</td></tr><tr><td>3</td><td>2011-01-15</td><td>50</td><td>550</td><td>275.0</td><td>2</td><td>50</td><td>500</td><td>275.0</td><td>2</td><td>50</td><td>500</td><td>550</td><td>5000</td><td>500</td><td>500</td><td>50</td><td>2</td></tr><tr><td>3</td><td>2011-01-22</td><td>5000</td><td>5550</td><td>1850.0</td><td>3</td><td>50</td><td>5000</td><td>1850.0</td><td>3</td><td>50</td><td>5000</td><td>5550</td><td>550</td><td>50</td><td>500</td><td>5000</td><td>3</td></tr><tr><td>3</td><td>2011-01-25</td><td>550</td><td>5600</td><td>1866.6666666666667</td><td>3</td><td>50</td><td>5000</td><td>1866.6666666666667</td><td>3</td><td>50</td><td>5000</td><td>5600</td><td>95</td><td>5000</td><td>500</td><td>550</td><td>4</td></tr><tr><td>3</td><td>2011-01-27</td><td>95</td><td>5645</td><td>1881.6666666666667</td><td>3</td><td>95</td><td>5000</td><td>1881.6666666666667</td><td>3</td><td>95</td><td>5000</td><td>5645</td><td>2500</td><td>550</td><td>500</td><td>95</td><td>5</td></tr><tr><td>3</td><td>2011-01-30</td><td>2500</td><td>3145</td><td>1048.3333333333333</td><td>3</td><td>95</td><td>2500</td><td>1048.3333333333333</td><td>3</td><td>95</td><td>2500</td><td>3145</td><td>null</td><td>95</td><td>500</td><td>2500</td><td>6</td></tr></tbody></table></div>"
      ]
     },
     "metadata": {
      "application/vnd.databricks.v1+output": {
       "addedWidgets": {},
       "aggData": [],
       "aggError": "",
       "aggOverflow": false,
       "aggSchema": [],
       "aggSeriesLimitReached": false,
       "aggType": "",
       "arguments": {},
       "columnCustomDisplayInfos": {},
       "data": [
        [
         1,
         "2011-01-01",
         500,
         500,
         500.0,
         1,
         500,
         500,
         500.0,
         1,
         500,
         500,
         500,
         50,
         null,
         500,
         500,
         1
        ],
        [
         1,
         "2011-01-15",
         50,
         550,
         275.0,
         2,
         50,
         500,
         275.0,
         2,
         50,
         500,
         550,
         250,
         500,
         500,
         50,
         2
        ],
        [
         1,
         "2011-01-22",
         250,
         800,
         266.6666666666667,
         3,
         50,
         500,
         266.6666666666667,
         3,
         50,
         500,
         800,
         75,
         50,
         500,
         250,
         3
        ],
        [
         1,
         "2011-01-24",
         75,
         375,
         125.0,
         3,
         50,
         250,
         125.0,
         3,
         50,
         250,
         375,
         125,
         250,
         500,
         75,
         4
        ],
        [
         1,
         "2011-01-26",
         125,
         450,
         150.0,
         3,
         75,
         250,
         150.0,
         3,
         75,
         250,
         450,
         175,
         75,
         500,
         125,
         5
        ],
        [
         1,
         "2011-01-28",
         175,
         375,
         125.0,
         3,
         75,
         175,
         125.0,
         3,
         75,
         175,
         375,
         null,
         125,
         500,
         175,
         6
        ],
        [
         2,
         "2011-01-01",
         500,
         500,
         500.0,
         1,
         500,
         500,
         500.0,
         1,
         500,
         500,
         500,
         50,
         null,
         500,
         500,
         1
        ],
        [
         2,
         "2011-01-15",
         50,
         550,
         275.0,
         2,
         50,
         500,
         275.0,
         2,
         50,
         500,
         550,
         25,
         500,
         500,
         50,
         2
        ],
        [
         2,
         "2011-01-22",
         25,
         575,
         191.66666666666666,
         3,
         25,
         500,
         191.66666666666666,
         3,
         25,
         500,
         575,
         125,
         50,
         500,
         25,
         3
        ],
        [
         2,
         "2011-01-23",
         125,
         200,
         66.66666666666667,
         3,
         25,
         125,
         66.66666666666667,
         3,
         25,
         125,
         200,
         200,
         25,
         500,
         125,
         4
        ],
        [
         2,
         "2011-01-26",
         200,
         350,
         116.66666666666667,
         3,
         25,
         200,
         116.66666666666667,
         3,
         25,
         200,
         350,
         250,
         125,
         500,
         200,
         5
        ],
        [
         2,
         "2011-01-29",
         250,
         575,
         191.66666666666666,
         3,
         125,
         250,
         191.66666666666666,
         3,
         125,
         250,
         575,
         null,
         200,
         500,
         250,
         6
        ],
        [
         3,
         "2011-01-01",
         500,
         500,
         500.0,
         1,
         500,
         500,
         500.0,
         1,
         500,
         500,
         500,
         50,
         null,
         500,
         500,
         1
        ],
        [
         3,
         "2011-01-15",
         50,
         550,
         275.0,
         2,
         50,
         500,
         275.0,
         2,
         50,
         500,
         550,
         5000,
         500,
         500,
         50,
         2
        ],
        [
         3,
         "2011-01-22",
         5000,
         5550,
         1850.0,
         3,
         50,
         5000,
         1850.0,
         3,
         50,
         5000,
         5550,
         550,
         50,
         500,
         5000,
         3
        ],
        [
         3,
         "2011-01-25",
         550,
         5600,
         1866.6666666666667,
         3,
         50,
         5000,
         1866.6666666666667,
         3,
         50,
         5000,
         5600,
         95,
         5000,
         500,
         550,
         4
        ],
        [
         3,
         "2011-01-27",
         95,
         5645,
         1881.6666666666667,
         3,
         95,
         5000,
         1881.6666666666667,
         3,
         95,
         5000,
         5645,
         2500,
         550,
         500,
         95,
         5
        ],
        [
         3,
         "2011-01-30",
         2500,
         3145,
         1048.3333333333333,
         3,
         95,
         2500,
         1048.3333333333333,
         3,
         95,
         2500,
         3145,
         null,
         95,
         500,
         2500,
         6
        ]
       ],
       "datasetInfos": [],
       "dbfsResultPath": null,
       "isJsonSchema": true,
       "metadata": {},
       "overflow": false,
       "plotOptions": {
        "customPlotOptions": {},
        "displayType": "table",
        "pivotAggregation": null,
        "pivotColumns": null,
        "xColumns": null,
        "yColumns": null
       },
       "removedWidgets": [],
       "schema": [
        {
         "metadata": "{}",
         "name": "AccountId",
         "type": "\"long\""
        },
        {
         "metadata": "{}",
         "name": "TranDate",
         "type": "\"string\""
        },
        {
         "metadata": "{}",
         "name": "TranAmt",
         "type": "\"long\""
        },
        {
         "metadata": "{}",
         "name": "RunTotalAmt",
         "type": "\"long\""
        },
        {
         "metadata": "{}",
         "name": "RunAvg",
         "type": "\"double\""
        },
        {
         "metadata": "{}",
         "name": "RunTranQty",
         "type": "\"long\""
        },
        {
         "metadata": "{}",
         "name": "RunSmallAmt",
         "type": "\"long\""
        },
        {
         "metadata": "{}",
         "name": "RunLargeAmt",
         "type": "\"long\""
        },
        {
         "metadata": "{}",
         "name": "SlideAvg",
         "type": "\"double\""
        },
        {
         "metadata": "{}",
         "name": "SlideQty",
         "type": "\"long\""
        },
        {
         "metadata": "{}",
         "name": "SlideMin",
         "type": "\"long\""
        },
        {
         "metadata": "{}",
         "name": "SlideMax",
         "type": "\"long\""
        },
        {
         "metadata": "{}",
         "name": "SlideTotal",
         "type": "\"long\""
        },
        {
         "metadata": "{}",
         "name": "LeadValue",
         "type": "\"long\""
        },
        {
         "metadata": "{}",
         "name": "LagValue",
         "type": "\"long\""
        },
        {
         "metadata": "{}",
         "name": "FirstValue",
         "type": "\"long\""
        },
        {
         "metadata": "{}",
         "name": "LastValue",
         "type": "\"long\""
        },
        {
         "metadata": "{}",
         "name": "RowNumber",
         "type": "\"integer\""
        }
       ],
       "type": "table"
      }
     },
     "output_type": "display_data"
    }
   ],
   "source": [
    "transactions_df = transactions_df.withColumn(\"RunTotalAmt\", sum(\"TranAmt\").over(window_r))\n",
    "transactions_df = transactions_df.withColumn(\"RunAvg\", avg(\"TranAmt\").over(window_r))\n",
    "transactions_df = transactions_df.withColumn(\"RunTranQty\", count(\"TranAmt\").over(window_r))\n",
    "transactions_df = transactions_df.withColumn(\"RunSmallAmt\", min(\"TranAmt\").over(window_r))\n",
    "transactions_df = transactions_df.withColumn(\"RunLargeAmt\", max(\"TranAmt\").over(window_r))\n",
    "transactions_df = transactions_df.withColumn(\"SlideAvg\", avg(\"TranAmt\").over(window_r))\n",
    "transactions_df = transactions_df.withColumn(\"SlideQty\", count(\"TranAmt\").over(window_r))\n",
    "transactions_df = transactions_df.withColumn(\"SlideMin\", min(\"TranAmt\").over(window_r))\n",
    "transactions_df = transactions_df.withColumn(\"SlideMax\", max(\"TranAmt\").over(window_r))\n",
    "transactions_df = transactions_df.withColumn(\"SlideTotal\", sum(\"TranAmt\").over(window_r))\n",
    "\n",
    "\n",
    "transactions_df = transactions_df.withColumn(\"LeadValue\", lead(\"TranAmt\").over(window))\n",
    "transactions_df = transactions_df.withColumn(\"LagValue\", lag(\"TranAmt\").over(window))\n",
    "transactions_df = transactions_df.withColumn(\"FirstValue\", first(\"TranAmt\").over(window))\n",
    "transactions_df = transactions_df.withColumn(\"LastValue\", last(\"TranAmt\").over(window_r))\n",
    "transactions_df = transactions_df.withColumn(\"RowNumber\", row_number().over(window))\n",
    "\n",
    "display(transactions_df)\n"
   ]
  }
 ],
 "metadata": {
  "application/vnd.databricks.v1+notebook": {
   "computePreferences": null,
   "dashboards": [],
   "environmentMetadata": {
    "base_environment": "",
    "environment_version": "1"
   },
   "inputWidgetPreferences": null,
   "language": "python",
   "notebookMetadata": {
    "pythonIndentUnit": 4
   },
   "notebookName": "ZADANIE3_LAB4",
   "widgets": {}
  }
 },
 "nbformat": 4,
 "nbformat_minor": 0
}