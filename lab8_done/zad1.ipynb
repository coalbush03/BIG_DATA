{
 "cells": [
  {
   "cell_type": "code",
   "execution_count": 0,
   "metadata": {
    "application/vnd.databricks.v1+cell": {
     "cellMetadata": {
      "byteLimit": 2048000,
      "rowLimit": 10000
     },
     "inputWidgets": {},
     "nuid": "8d3ea313-fbba-4a35-9998-e5b11548592f",
     "showTitle": false,
     "tableResultSettingsMap": {},
     "title": ""
    }
   },
   "outputs": [
    {
     "output_type": "display_data",
     "data": {
      "text/html": [
       "<style scoped>\n",
       "  .table-result-container {\n",
       "    max-height: 300px;\n",
       "    overflow: auto;\n",
       "  }\n",
       "  table, th, td {\n",
       "    border: 1px solid black;\n",
       "    border-collapse: collapse;\n",
       "  }\n",
       "  th, td {\n",
       "    padding: 5px;\n",
       "  }\n",
       "  th {\n",
       "    text-align: left;\n",
       "  }\n",
       "</style><div class='table-result-container'><table class='table-result'><thead style='background-color: white'><tr><th>feature_type</th><th>geometry_type</th><th>geometry_coordinates</th><th>feature_id</th><th>toid</th><th>change_event_type</th><th>feature_group</th><th>lifecycle_status</th><th>job_reference</th><th>form_type</th></tr></thead><tbody><tr><td>Feature</td><td>Polygon</td><td>List(List([445751.0,244970.0,138.984], [446492.041,244970.0,101.861], [446492.041,245088.372,102.604], [445751.0,245088.372,140.312], [445751.0,244970.0,138.984]))</td><td>a6a7e7ff-71d3-e455-0a2c5c6a</td><td>3544354345349395541</td><td>update</td><td>Named Extent+Group+None</td><td>Defined</td><td>3453654</td><td>Named Thoroughfare</td></tr><tr><td>Feature</td><td>LineString</td><td>List(List(446492.041, 245087.712, 102.616), List(446498.463, 245087.71, 103.178), List(446503.199, 245088.442, 103.205), List(446510.93, 245089.636, 102.862))</td><td>17e3f1c4-1802-4952-a826-ba148d063716</td><td>osgb5000005233652043</td><td>delete</td><td>Network+Line+None</td><td>Defined</td><td>34567535</td><td>Single Carriageway</td></tr></tbody></table></div>"
      ]
     },
     "metadata": {
      "application/vnd.databricks.v1+output": {
       "addedWidgets": {},
       "aggData": [],
       "aggError": "",
       "aggOverflow": false,
       "aggSchema": [],
       "aggSeriesLimitReached": false,
       "aggType": "",
       "arguments": {},
       "columnCustomDisplayInfos": {},
       "data": [
        [
         "Feature",
         "Polygon",
         [
          [
           "[445751.0,244970.0,138.984]",
           "[446492.041,244970.0,101.861]",
           "[446492.041,245088.372,102.604]",
           "[445751.0,245088.372,140.312]",
           "[445751.0,244970.0,138.984]"
          ]
         ],
         "a6a7e7ff-71d3-e455-0a2c5c6a",
         "3544354345349395541",
         "update",
         "Named Extent+Group+None",
         "Defined",
         3453654,
         "Named Thoroughfare"
        ],
        [
         "Feature",
         "LineString",
         [
          [
           "446492.041",
           "245087.712",
           "102.616"
          ],
          [
           "446498.463",
           "245087.71",
           "103.178"
          ],
          [
           "446503.199",
           "245088.442",
           "103.205"
          ],
          [
           "446510.93",
           "245089.636",
           "102.862"
          ]
         ],
         "17e3f1c4-1802-4952-a826-ba148d063716",
         "osgb5000005233652043",
         "delete",
         "Network+Line+None",
         "Defined",
         34567535,
         "Single Carriageway"
        ]
       ],
       "datasetInfos": [],
       "dbfsResultPath": null,
       "isJsonSchema": true,
       "metadata": {},
       "overflow": false,
       "plotOptions": {
        "customPlotOptions": {},
        "displayType": "table",
        "pivotAggregation": null,
        "pivotColumns": null,
        "xColumns": null,
        "yColumns": null
       },
       "removedWidgets": [],
       "schema": [
        {
         "metadata": "{}",
         "name": "feature_type",
         "type": "\"string\""
        },
        {
         "metadata": "{}",
         "name": "geometry_type",
         "type": "\"string\""
        },
        {
         "metadata": "{}",
         "name": "geometry_coordinates",
         "type": "{\"type\":\"array\",\"elementType\":{\"type\":\"array\",\"elementType\":\"string\",\"containsNull\":true},\"containsNull\":true}"
        },
        {
         "metadata": "{}",
         "name": "feature_id",
         "type": "\"string\""
        },
        {
         "metadata": "{}",
         "name": "toid",
         "type": "\"string\""
        },
        {
         "metadata": "{}",
         "name": "change_event_type",
         "type": "\"string\""
        },
        {
         "metadata": "{}",
         "name": "feature_group",
         "type": "\"string\""
        },
        {
         "metadata": "{}",
         "name": "lifecycle_status",
         "type": "\"string\""
        },
        {
         "metadata": "{}",
         "name": "job_reference",
         "type": "\"long\""
        },
        {
         "metadata": "{}",
         "name": "form_type",
         "type": "\"string\""
        }
       ],
       "type": "table"
      }
     },
     "output_type": "display_data"
    }
   ],
   "source": [
    "from pyspark.sql.functions import col, explode\n",
    "\n",
    "file_location = \"dbfs:/FileStore/tables/json/brzydki.json\"\n",
    "file_type = \"json\"\n",
    " \n",
    "df = spark.read.option(\"multiline\",\"true\").json(file_location)\n",
    "\n",
    "\n",
    "df_features = df.select(explode(col(\"features\")).alias(\"feature\"))\n",
    "\n",
    "df_flattened = df_features.select(\n",
    "    col(\"feature.type\").alias(\"feature_type\"),\n",
    "    col(\"feature.geometry.type\").alias(\"geometry_type\"),\n",
    "    col(\"feature.geometry.coordinates\").alias(\"geometry_coordinates\"),\n",
    "    col(\"feature.properties.featureId\").alias(\"feature_id\"),\n",
    "    col(\"feature.properties.toid\").alias(\"toid\"),\n",
    "    col(\"feature.properties.changeEventType\").alias(\"change_event_type\"),\n",
    "    col(\"feature.properties.featureGroup\").alias(\"feature_group\"),\n",
    "    col(\"feature.properties.lifecycleStatusComponent.lifecycleStatus\").alias(\"lifecycle_status\"),\n",
    "    col(\"feature.properties.jobReference\").alias(\"job_reference\"),\n",
    "    col(\"feature.properties.baseFormComponent.form\").alias(\"form_type\")\n",
    ")\n",
    "\n",
    "display(df_flattened)"
   ]
  }
 ],
 "metadata": {
  "application/vnd.databricks.v1+notebook": {
   "computePreferences": null,
   "dashboards": [],
   "environmentMetadata": {
    "base_environment": "",
    "environment_version": "1"
   },
   "inputWidgetPreferences": null,
   "language": "python",
   "notebookMetadata": {
    "pythonIndentUnit": 4
   },
   "notebookName": "zad1",
   "widgets": {}
  }
 },
 "nbformat": 4,
 "nbformat_minor": 0
}