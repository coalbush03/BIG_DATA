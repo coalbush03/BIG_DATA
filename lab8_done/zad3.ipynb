{
 "cells": [
  {
   "cell_type": "code",
   "execution_count": 0,
   "metadata": {
    "application/vnd.databricks.v1+cell": {
     "cellMetadata": {
      "byteLimit": 2048000,
      "rowLimit": 10000
     },
     "inputWidgets": {},
     "nuid": "b976ef2a-1572-4e4a-a3ec-1e6ce8a57997",
     "showTitle": false,
     "tableResultSettingsMap": {},
     "title": ""
    }
   },
   "outputs": [],
   "source": [
    "from pyspark.sql.types import StructType, StructField, StringType, ArrayType\n",
    "from pyspark.sql.functions import explode_outer\n",
    "\n",
    "\n",
    "#porownanie df do schema\n",
    "\n",
    "def validate_schema(df, exp_schema: StructType):\n",
    "    actual_fields = set((f.name, f.dataType) for f in df.schema.fields)\n",
    "    exp_fields = set((f.name, f.dataType) for f in exp_schema.fields)\n",
    "\n",
    "    missing = exp_fields - actual_fields\n",
    "    extra = actual_fields - exp_fields\n",
    "\n",
    "    if missing:\n",
    "        raise ValueError(f\"missing: {missing}\")\n",
    "    if extra:\n",
    "        print(f\"extra fields: {extra}\")"
   ]
  },
  {
   "cell_type": "code",
   "execution_count": 0,
   "metadata": {
    "application/vnd.databricks.v1+cell": {
     "cellMetadata": {
      "byteLimit": 2048000,
      "rowLimit": 10000
     },
     "inputWidgets": {},
     "nuid": "dd7d30a3-a1bc-4176-91df-3d693dbb4df5",
     "showTitle": false,
     "tableResultSettingsMap": {},
     "title": ""
    }
   },
   "outputs": [],
   "source": [
    "#explode z zabezpieczeniem\n",
    "def safe_explode(df, col_name):\n",
    "    if col_name not in df.columns:\n",
    "        raise ValueError(f\"Column {col_name} not in DF\")\n",
    "    return df.withColumn(col_name, explode_outer(col(col_name)))"
   ]
  },
  {
   "cell_type": "code",
   "execution_count": 0,
   "metadata": {
    "application/vnd.databricks.v1+cell": {
     "cellMetadata": {
      "byteLimit": 2048000,
      "rowLimit": 10000
     },
     "inputWidgets": {},
     "nuid": "56971354-16bd-407c-ab0f-f31d36860eb3",
     "showTitle": false,
     "tableResultSettingsMap": {},
     "title": ""
    }
   },
   "outputs": [],
   "source": [
    "#szybkie sprawdzanie czy nie ma nulli w waznych kolumnach\n",
    "def check_nulls_in_key_columns(df, key_columns):\n",
    "    for col_name in key_columns:\n",
    "        null_count = df.filter(col(col_name).isNull()).count()\n",
    "        if null_count > 0:\n",
    "            raise ValueError(f\"Nulls in: {col_name} ({null_count} rows)\")\n"
   ]
  },
  {
   "cell_type": "code",
   "execution_count": 0,
   "metadata": {
    "application/vnd.databricks.v1+cell": {
     "cellMetadata": {
      "byteLimit": 2048000,
      "rowLimit": 10000
     },
     "inputWidgets": {},
     "nuid": "35c62ce6-a656-4dfb-b7e1-c2798049f79c",
     "showTitle": false,
     "tableResultSettingsMap": {},
     "title": ""
    }
   },
   "outputs": [],
   "source": [
    "#sprawdzanie unikalnosci\n",
    "def check_uniqueness(df, col_name):\n",
    "    total = df.count()\n",
    "    distinct = df.select(col_name).distinct().count()\n",
    "    if total != distinct:\n",
    "        raise ValueError(f\" {col_name} not uniq -  distincit: {distinct}  total: {total}\")\n"
   ]
  },
  {
   "cell_type": "code",
   "execution_count": 0,
   "metadata": {
    "application/vnd.databricks.v1+cell": {
     "cellMetadata": {
      "byteLimit": 2048000,
      "rowLimit": 10000
     },
     "inputWidgets": {},
     "nuid": "d80ad744-c859-4fa2-82fb-6f0a15b7285e",
     "showTitle": false,
     "tableResultSettingsMap": {},
     "title": ""
    }
   },
   "outputs": [],
   "source": [
    "#row limit zeby nie wczytac za duzo : \n",
    "def check_row_limit(df, max_rows=100000):\n",
    "    count = df.count()\n",
    "    if count > max_rows:\n",
    "        raise RuntimeError(f\"too many rows: {count} > {max_rows}\")\n"
   ]
  }
 ],
 "metadata": {
  "application/vnd.databricks.v1+notebook": {
   "computePreferences": null,
   "dashboards": [],
   "environmentMetadata": {
    "base_environment": "",
    "environment_version": "1"
   },
   "inputWidgetPreferences": null,
   "language": "python",
   "notebookMetadata": {
    "pythonIndentUnit": 4
   },
   "notebookName": "zad3",
   "widgets": {}
  }
 },
 "nbformat": 4,
 "nbformat_minor": 0
}